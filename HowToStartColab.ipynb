{
  "nbformat": 4,
  "nbformat_minor": 0,
  "metadata": {
    "colab": {
      "provenance": [],
      "collapsed_sections": [
        "cd647985h-81"
      ]
    },
    "kernelspec": {
      "name": "python3",
      "display_name": "Python 3"
    },
    "language_info": {
      "name": "python"
    }
  },
  "cells": [
    {
      "cell_type": "markdown",
      "source": [
        "## Google Colab のはじめかた\n",
        "* https://docs.python.org/ja/3/tutorial/introduction.html"
      ],
      "metadata": {
        "id": "Kf8B8MVdaDlE"
      }
    },
    {
      "cell_type": "markdown",
      "source": [
        "### 電卓として使う\n",
        "\n",
        "簡単な電卓のように動作します: 式を入力すると、その結果が表示されます。 式の文法は素直なものです: 演算子 `+`, `-`, `*`, `/` によって算術演算を行うことができ、丸括弧 `( ( ) )`  をグループ化に使うことができます。 例えば:"
      ],
      "metadata": {
        "id": "OyoxcBdEbgZh"
      }
    },
    {
      "cell_type": "code",
      "source": [
        "2+2"
      ],
      "metadata": {
        "id": "mfkQI7G7bfSq"
      },
      "execution_count": null,
      "outputs": []
    },
    {
      "cell_type": "code",
      "source": [
        "50-5*6"
      ],
      "metadata": {
        "id": "sXvO31zweHze"
      },
      "execution_count": null,
      "outputs": []
    },
    {
      "cell_type": "code",
      "source": [
        "(50-5*6)/4"
      ],
      "metadata": {
        "id": "anxsOTQdeOBG"
      },
      "execution_count": null,
      "outputs": []
    },
    {
      "cell_type": "code",
      "source": [
        "8/5"
      ],
      "metadata": {
        "id": "trgBvxpZeNBg"
      },
      "execution_count": null,
      "outputs": []
    },
    {
      "cell_type": "markdown",
      "source": [
        "整数 (例えば `2`, `4`, `20`) は `int` 型であり、小数部を持つ数 (例えば `5.0`, `1.6`) は `float` 型です。数値型については後でさらに見ていきます。\n",
        "\n",
        "除算 (`/`) は常に浮動小数点数を返します。 `//` 演算子は 整数除算 を行い、整数値を返します。剰余は、`%` で求めます。:"
      ],
      "metadata": {
        "id": "icU66BIdb0Do"
      }
    },
    {
      "cell_type": "code",
      "source": [
        "17/3"
      ],
      "metadata": {
        "id": "xCJEARQFeilh"
      },
      "execution_count": null,
      "outputs": []
    },
    {
      "cell_type": "code",
      "source": [
        "17//3"
      ],
      "metadata": {
        "id": "OhI771fKeiTX"
      },
      "execution_count": null,
      "outputs": []
    },
    {
      "cell_type": "code",
      "source": [
        "17%3"
      ],
      "metadata": {
        "id": "JvWffK8behbV"
      },
      "execution_count": null,
      "outputs": []
    },
    {
      "cell_type": "code",
      "source": [
        "5*3+2"
      ],
      "metadata": {
        "id": "tGy9V8OdevE4"
      },
      "execution_count": null,
      "outputs": []
    },
    {
      "cell_type": "markdown",
      "source": [
        "Python では、冪乗を計算するのに `**` 演算子が使えます:"
      ],
      "metadata": {
        "id": "sp5VBQy2e3j-"
      }
    },
    {
      "cell_type": "code",
      "source": [
        "5**2"
      ],
      "metadata": {
        "id": "BpCUGCcDfClj"
      },
      "execution_count": null,
      "outputs": []
    },
    {
      "cell_type": "code",
      "source": [
        "2**7"
      ],
      "metadata": {
        "id": "XYZbWFHjfDv_"
      },
      "execution_count": null,
      "outputs": []
    },
    {
      "cell_type": "markdown",
      "source": [
        "等号 (`=`) は変数 (`width`, `height`) に値を代入するときに使います。代入を行っても、結果は出力されず、最後の結果だけが表示されます。:"
      ],
      "metadata": {
        "id": "z2SQH39RfN-4"
      }
    },
    {
      "cell_type": "code",
      "source": [
        "width = 20\n",
        "height = 5*9\n",
        "width * height"
      ],
      "metadata": {
        "id": "v8Vlg3ZDfT4J"
      },
      "execution_count": null,
      "outputs": []
    },
    {
      "cell_type": "markdown",
      "source": [
        "浮動小数点を完全にサポートしています。演算対象の値に複数の型が入り混じっている場合、演算子は整数の値を浮動小数点型に変換します:"
      ],
      "metadata": {
        "id": "bEgqeDu3gHqB"
      }
    },
    {
      "cell_type": "code",
      "source": [
        "4*3.75-1"
      ],
      "metadata": {
        "id": "DoJCHaRjggkr"
      },
      "execution_count": null,
      "outputs": []
    },
    {
      "cell_type": "markdown",
      "source": [
        "最後に表示された結果は変数 `_` (アンダーバー) に代入されます。このことを利用すると、Python を電卓として使うときに、計算を連続して行う作業が多少楽になります。以下に例を示します:"
      ],
      "metadata": {
        "id": "_iyRmgcxg0Va"
      }
    },
    {
      "cell_type": "code",
      "source": [
        "2*_"
      ],
      "metadata": {
        "id": "Y3ogxbILgvNw"
      },
      "execution_count": null,
      "outputs": []
    },
    {
      "cell_type": "markdown",
      "source": [
        "## 練習問題\n",
        "1. 1から9までの奇数の和を求めよ。\n",
        "2. 西暦2024年は閏年(365+1日)です。2024年1月1日は月曜日でしたが, 2025年の元旦は何曜日か。"
      ],
      "metadata": {
        "id": "cd647985h-81"
      }
    },
    {
      "cell_type": "code",
      "execution_count": null,
      "metadata": {
        "id": "NcZs_RkOZuLZ"
      },
      "outputs": [],
      "source": [
        "# 練習問題1. 1+3+...+9\n"
      ]
    },
    {
      "cell_type": "code",
      "source": [
        "# 練習問題2. 1年は365+1日, 1週間は7日, 1年の日数を7で割った余りを求める\n"
      ],
      "metadata": {
        "id": "W42nuHR5FumB"
      },
      "execution_count": null,
      "outputs": []
    }
  ]
}